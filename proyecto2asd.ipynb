{
 "cells": [
  {
   "cell_type": "markdown",
   "metadata": {},
   "source": [
    "## Clasificación género de películas\n",
    "\n",
    "* Camilo Correa\n",
    "* Camilo Barajas\n",
    "* Nicolás Hernández"
   ]
  },
  {
   "cell_type": "code",
   "execution_count": 1,
   "metadata": {
    "colab": {},
    "colab_type": "code",
    "id": "yasWgHHpYLtb"
   },
   "outputs": [],
   "source": [
    "import pandas as pd\n",
    "import os\n",
    "import numpy as np\n",
    "from sklearn.feature_extraction.text import TfidfVectorizer, CountVectorizer\n",
    "from sklearn.preprocessing import MultiLabelBinarizer, normalize\n",
    "from sklearn.multiclass import OneVsRestClassifier\n",
    "from sklearn.ensemble import RandomForestClassifier, VotingClassifier\n",
    "from sklearn.metrics import r2_score, roc_auc_score\n",
    "from sklearn.model_selection import train_test_split\n",
    "from nltk.corpus import stopwords\n",
    "from nltk.stem.snowball import SnowballStemmer\n",
    "%matplotlib inline\n",
    "import matplotlib.pyplot as plt\n"
   ]
  },
  {
   "cell_type": "code",
   "execution_count": 2,
   "metadata": {
    "colab": {},
    "colab_type": "code",
    "id": "q_P51MlGOt4T"
   },
   "outputs": [],
   "source": [
    "\n",
    "dataTraining = pd.read_csv('https://github.com/albahnsen/PracticalMachineLearningClass/raw/master/datasets/dataTraining.zip', encoding='UTF-8', index_col=0)\n",
    "dataTesting = pd.read_csv('https://github.com//albahnsen/PracticalMachineLearningClass/raw/master/datasets/dataTesting.zip', encoding='UTF-8', index_col=0)\n"
   ]
  },
  {
   "cell_type": "markdown",
   "metadata": {},
   "source": [
    "Iniciamos creando una copia de las bases de datos originales"
   ]
  },
  {
   "cell_type": "code",
   "execution_count": 3,
   "metadata": {
    "colab": {},
    "colab_type": "code",
    "id": "JxPk8cD2OwTE"
   },
   "outputs": [],
   "source": [
    "train = dataTraining\n",
    "test = dataTesting"
   ]
  },
  {
   "cell_type": "markdown",
   "metadata": {},
   "source": [
    "## 1.1 Exploración variable respuesta\n",
    "\n",
    "Realizamos una exploración inicial de a base de datos para descubrir la cantidad inicial de géneros a los cuales podría pertenecer cada película. Adicionalmente queremos saber a cuántos géneros pertenece aproximadamente cada película. "
   ]
  },
  {
   "cell_type": "code",
   "execution_count": 4,
   "metadata": {
    "colab": {
     "base_uri": "https://localhost:8080/",
     "height": 35
    },
    "colab_type": "code",
    "executionInfo": {
     "elapsed": 4740,
     "status": "ok",
     "timestamp": 1555906374251,
     "user": {
      "displayName": "camilo barajas",
      "photoUrl": "https://lh3.googleusercontent.com/-LEAGlKez3-M/AAAAAAAAAAI/AAAAAAAASrQ/gudngiRHT3Y/s64/photo.jpg",
      "userId": "08841233750223880415"
     },
     "user_tz": 300
    },
    "id": "efBoGm3TO4fB",
    "outputId": "1eb879e4-0176-45fb-b177-fdc8c8e5195f"
   },
   "outputs": [
    {
     "data": {
      "text/plain": [
       "(7895, 24)"
      ]
     },
     "execution_count": 4,
     "metadata": {},
     "output_type": "execute_result"
    }
   ],
   "source": [
    "# 1.1 Exploración variable respuesta\n",
    "# Crear DF de variable respuesta\n",
    "train['genres'] = train['genres'].map(lambda x: eval(x))\n",
    "le = MultiLabelBinarizer()\n",
    "y_genres = pd.DataFrame(le.fit_transform(train['genres']), columns=(list(le.classes_)))\n",
    "y_genres.shape # Son 24 tipos de género\n"
   ]
  },
  {
   "cell_type": "code",
   "execution_count": 5,
   "metadata": {
    "colab": {
     "base_uri": "https://localhost:8080/",
     "height": 269
    },
    "colab_type": "code",
    "executionInfo": {
     "elapsed": 4731,
     "status": "ok",
     "timestamp": 1555906374252,
     "user": {
      "displayName": "camilo barajas",
      "photoUrl": "https://lh3.googleusercontent.com/-LEAGlKez3-M/AAAAAAAAAAI/AAAAAAAASrQ/gudngiRHT3Y/s64/photo.jpg",
      "userId": "08841233750223880415"
     },
     "user_tz": 300
    },
    "id": "9WY85YWKPdZC",
    "outputId": "38e1f164-d2c7-4f3a-bb37-c36ea3665d26"
   },
   "outputs": [
    {
     "data": {
      "image/png": "[encoded data removed]",
      "text/plain": [
       "<Figure size 432x288 with 1 Axes>"
      ]
     },
     "metadata": {
      "needs_background": "light"
     },
     "output_type": "display_data"
    }
   ],
   "source": [
    "y_genres['num_gen'] = y_genres.sum(axis=1)\n",
    "y_genres['num_gen'].hist(bins=8)\n",
    "y_genres[\"num_gen\"].value_counts()\n",
    "# Hay 2 películas que se clasifican en 9 géneros y 8 que se clasifican en 7 géneros\n",
    "\n",
    "y_genres = y_genres.drop(columns='num_gen')"
   ]
  },
  {
   "cell_type": "markdown",
   "metadata": {},
   "source": [
    "Para la futura creación de variables consideramos importante saber el año de lanzamiento de las películas, con el fin se sabes si hay algún tipo de relación entre este y su género. Con esto descubrimos que las películas son recientes en su mayoría "
   ]
  },
  {
   "cell_type": "code",
   "execution_count": 6,
   "metadata": {
    "colab": {
     "base_uri": "https://localhost:8080/",
     "height": 1480
    },
    "colab_type": "code",
    "executionInfo": {
     "elapsed": 6945,
     "status": "ok",
     "timestamp": 1555906376497,
     "user": {
      "displayName": "camilo barajas",
      "photoUrl": "https://lh3.googleusercontent.com/-LEAGlKez3-M/AAAAAAAAAAI/AAAAAAAASrQ/gudngiRHT3Y/s64/photo.jpg",
      "userId": "08841233750223880415"
     },
     "user_tz": 300
    },
    "id": "tT8wt4zMPn2g",
    "outputId": "981bcc9a-3719-4e38-a4e7-ca7c5bc86b64"
   },
   "outputs": [
    {
     "data": {
      "text/plain": [
       "2013    288\n",
       "2012    277\n",
       "2009    268\n",
       "2008    268\n",
       "2011    266\n",
       "2007    263\n",
       "2006    259\n",
       "2014    242\n",
       "2010    234\n",
       "2005    223\n",
       "2004    202\n",
       "1997    184\n",
       "2001    179\n",
       "2002    176\n",
       "2000    169\n",
       "1999    168\n",
       "1998    168\n",
       "1995    167\n",
       "2003    161\n",
       "1996    158\n",
       "1994    137\n",
       "1988    136\n",
       "1993    135\n",
       "1992    124\n",
       "1990    124\n",
       "1991    123\n",
       "1989    117\n",
       "1987    116\n",
       "1985     91\n",
       "1986     90\n",
       "       ... \n",
       "1935     28\n",
       "1960     28\n",
       "1937     26\n",
       "1961     26\n",
       "1932     23\n",
       "1933     23\n",
       "1938     19\n",
       "1931     17\n",
       "1934     16\n",
       "1928     15\n",
       "1921      9\n",
       "1925      8\n",
       "1922      8\n",
       "1930      8\n",
       "1929      7\n",
       "1923      7\n",
       "1927      7\n",
       "1924      6\n",
       "1926      6\n",
       "1920      5\n",
       "1916      5\n",
       "1915      5\n",
       "1917      3\n",
       "1919      3\n",
       "1894      2\n",
       "1918      2\n",
       "1910      1\n",
       "1914      1\n",
       "1903      1\n",
       "1896      1\n",
       "Name: year, Length: 106, dtype: int64"
      ]
     },
     "execution_count": 6,
     "metadata": {},
     "output_type": "execute_result"
    },
    {
     "data": {
      "image/png": "[encoded data removed]",
      "text/plain": [
       "<Figure size 576x432 with 1 Axes>"
      ]
     },
     "metadata": {
      "needs_background": "light"
     },
     "output_type": "display_data"
    }
   ],
   "source": [
    "# Año de lanzamiento de la película\n",
    "pd.Series(train['year']).value_counts().plot(kind = \"bar\",figsize=(8,6),rot = 0)\n",
    "train[\"year\"].value_counts()"
   ]
  },
  {
   "cell_type": "markdown",
   "metadata": {},
   "source": [
    "## 1.2 Creación de Variables"
   ]
  },
  {
   "cell_type": "markdown",
   "metadata": {},
   "source": [
    "Para hacer que el año de estreno de la película provea mayor información al modelo, remplazamos la variable año por el número de años que han pasado desde que se estrenó la película. "
   ]
  },
  {
   "cell_type": "code",
   "execution_count": 7,
   "metadata": {
    "colab": {
     "base_uri": "https://localhost:8080/",
     "height": 1480
    },
    "colab_type": "code",
    "executionInfo": {
     "elapsed": 7376,
     "status": "ok",
     "timestamp": 1555906376935,
     "user": {
      "displayName": "camilo barajas",
      "photoUrl": "https://lh3.googleusercontent.com/-LEAGlKez3-M/AAAAAAAAAAI/AAAAAAAASrQ/gudngiRHT3Y/s64/photo.jpg",
      "userId": "08841233750223880415"
     },
     "user_tz": 300
    },
    "id": "PDLWzavHPwzt",
    "outputId": "f62b9110-53d5-4de8-de5a-cccbd6a97ee9"
   },
   "outputs": [
    {
     "data": {
      "text/plain": [
       "6      288\n",
       "7      277\n",
       "11     268\n",
       "10     268\n",
       "8      266\n",
       "12     263\n",
       "13     259\n",
       "5      242\n",
       "9      234\n",
       "14     223\n",
       "15     202\n",
       "22     184\n",
       "18     179\n",
       "17     176\n",
       "19     169\n",
       "21     168\n",
       "20     168\n",
       "24     167\n",
       "16     161\n",
       "23     158\n",
       "25     137\n",
       "31     136\n",
       "26     135\n",
       "27     124\n",
       "29     124\n",
       "28     123\n",
       "30     117\n",
       "32     116\n",
       "34      91\n",
       "33      90\n",
       "      ... \n",
       "83      28\n",
       "59      28\n",
       "82      26\n",
       "58      26\n",
       "87      23\n",
       "86      23\n",
       "81      19\n",
       "88      17\n",
       "85      16\n",
       "91      15\n",
       "98       9\n",
       "89       8\n",
       "97       8\n",
       "94       8\n",
       "96       7\n",
       "90       7\n",
       "92       7\n",
       "93       6\n",
       "95       6\n",
       "104      5\n",
       "99       5\n",
       "103      5\n",
       "102      3\n",
       "100      3\n",
       "101      2\n",
       "125      2\n",
       "123      1\n",
       "116      1\n",
       "109      1\n",
       "105      1\n",
       "Name: time, Length: 106, dtype: int64"
      ]
     },
     "execution_count": 7,
     "metadata": {},
     "output_type": "execute_result"
    },
    {
     "data": {
      "image/png": "[encoded data removed]",
      "text/plain": [
       "<Figure size 576x432 with 1 Axes>"
      ]
     },
     "metadata": {
      "needs_background": "light"
     },
     "output_type": "display_data"
    }
   ],
   "source": [
    "train['time'] = 2019-train['year']\n",
    "pd.Series(train['time']).value_counts().plot(kind = \"bar\",figsize=(8,6),rot = 0)\n",
    "train[\"time\"].value_counts()"
   ]
  },
  {
   "cell_type": "markdown",
   "metadata": {},
   "source": [
    "Además de la variable anterior, contamos el número de palabras en la descripción y el título de cada película, para dar la mayor cantidad de información al modelo"
   ]
  },
  {
   "cell_type": "code",
   "execution_count": 8,
   "metadata": {
    "colab": {
     "base_uri": "https://localhost:8080/",
     "height": 751
    },
    "colab_type": "code",
    "executionInfo": {
     "elapsed": 7370,
     "status": "ok",
     "timestamp": 1555906376935,
     "user": {
      "displayName": "camilo barajas",
      "photoUrl": "https://lh3.googleusercontent.com/-LEAGlKez3-M/AAAAAAAAAAI/AAAAAAAASrQ/gudngiRHT3Y/s64/photo.jpg",
      "userId": "08841233750223880415"
     },
     "user_tz": 300
    },
    "id": "vuyVnBTRP39v",
    "outputId": "9b46b770-0091-490b-88bd-22b62f6142a9",
    "scrolled": true
   },
   "outputs": [
    {
     "data": {
      "text/html": [
       "<div>\n",
       "<style scoped>\n",
       "    .dataframe tbody tr th:only-of-type {\n",
       "        vertical-align: middle;\n",
       "    }\n",
       "\n",
       "    .dataframe tbody tr th {\n",
       "        vertical-align: top;\n",
       "    }\n",
       "\n",
       "    .dataframe thead th {\n",
       "        text-align: right;\n",
       "    }\n",
       "</style>\n",
       "<table border=\"1\" class=\"dataframe\">\n",
       "  <thead>\n",
       "    <tr style=\"text-align: right;\">\n",
       "      <th></th>\n",
       "      <th>plot</th>\n",
       "      <th>genres</th>\n",
       "    </tr>\n",
       "  </thead>\n",
       "  <tbody>\n",
       "    <tr>\n",
       "      <th>2145</th>\n",
       "      <td>three workers ,  zeke  (</td>\n",
       "      <td>[Crime, Drama]</td>\n",
       "    </tr>\n",
       "    <tr>\n",
       "      <th>214</th>\n",
       "      <td>a look at the life of filmmaker john milius .</td>\n",
       "      <td>[Documentary, Biography, Drama]</td>\n",
       "    </tr>\n",
       "    <tr>\n",
       "      <th>3546</th>\n",
       "      <td>several voice actors discuss their art and the...</td>\n",
       "      <td>[Documentary]</td>\n",
       "    </tr>\n",
       "    <tr>\n",
       "      <th>6782</th>\n",
       "      <td>a series of comedic short films guaranteed to ...</td>\n",
       "      <td>[Comedy]</td>\n",
       "    </tr>\n",
       "    <tr>\n",
       "      <th>7444</th>\n",
       "      <td>how</td>\n",
       "      <td>[Documentary]</td>\n",
       "    </tr>\n",
       "    <tr>\n",
       "      <th>3352</th>\n",
       "      <td>iconic writer ,  director ,  actor ,  comedian...</td>\n",
       "      <td>[Documentary, Biography]</td>\n",
       "    </tr>\n",
       "    <tr>\n",
       "      <th>4832</th>\n",
       "      <td>an authorized documentary on the late musician</td>\n",
       "      <td>[Documentary, Animation, Biography, Music]</td>\n",
       "    </tr>\n",
       "    <tr>\n",
       "      <th>4110</th>\n",
       "      <td>the feature film directing debut of</td>\n",
       "      <td>[Crime, Mystery, Romance]</td>\n",
       "    </tr>\n",
       "    <tr>\n",
       "      <th>2485</th>\n",
       "      <td>the third installment of the faces of death se...</td>\n",
       "      <td>[Documentary, Horror]</td>\n",
       "    </tr>\n",
       "    <tr>\n",
       "      <th>9425</th>\n",
       "      <td>a retelling of sir</td>\n",
       "      <td>[Documentary, History]</td>\n",
       "    </tr>\n",
       "    <tr>\n",
       "      <th>1441</th>\n",
       "      <td>a  N  - d presentation of</td>\n",
       "      <td>[Documentary, Music]</td>\n",
       "    </tr>\n",
       "    <tr>\n",
       "      <th>10298</th>\n",
       "      <td>academy award - winner</td>\n",
       "      <td>[Documentary, Music]</td>\n",
       "    </tr>\n",
       "    <tr>\n",
       "      <th>9143</th>\n",
       "      <td>a documentary about the production of</td>\n",
       "      <td>[Documentary]</td>\n",
       "    </tr>\n",
       "    <tr>\n",
       "      <th>2766</th>\n",
       "      <td>filmmaker</td>\n",
       "      <td>[Documentary, Biography, Music]</td>\n",
       "    </tr>\n",
       "    <tr>\n",
       "      <th>7709</th>\n",
       "      <td>the true story of</td>\n",
       "      <td>[Biography, Comedy, Drama, Music]</td>\n",
       "    </tr>\n",
       "    <tr>\n",
       "      <th>9319</th>\n",
       "      <td>howard spence  (</td>\n",
       "      <td>[Drama, Music]</td>\n",
       "    </tr>\n",
       "    <tr>\n",
       "      <th>8432</th>\n",
       "      <td>f / x man rollie tyler  (</td>\n",
       "      <td>[Action, Thriller]</td>\n",
       "    </tr>\n",
       "    <tr>\n",
       "      <th>5623</th>\n",
       "      <td>young vincent malloy dreams of being just like</td>\n",
       "      <td>[Short, Animation, Family, Fantasy]</td>\n",
       "    </tr>\n",
       "    <tr>\n",
       "      <th>9197</th>\n",
       "      <td>follow four comedians as they tour the states .</td>\n",
       "      <td>[Comedy, Documentary]</td>\n",
       "    </tr>\n",
       "    <tr>\n",
       "      <th>7105</th>\n",
       "      <td>buddies pepper lewis  (</td>\n",
       "      <td>[Action, Comedy, Crime, Drama, Thriller, Western]</td>\n",
       "    </tr>\n",
       "    <tr>\n",
       "      <th>2843</th>\n",
       "      <td>the story of</td>\n",
       "      <td>[Biography, Drama]</td>\n",
       "    </tr>\n",
       "    <tr>\n",
       "      <th>5599</th>\n",
       "      <td>concert footage and backstage documentary of s...</td>\n",
       "      <td>[Documentary, Music]</td>\n",
       "    </tr>\n",
       "    <tr>\n",
       "      <th>1271</th>\n",
       "      <td>transforming familiar objects into fresh guaca...</td>\n",
       "      <td>[Animation, Short]</td>\n",
       "    </tr>\n",
       "    <tr>\n",
       "      <th>166</th>\n",
       "      <td>documentary on the director ' s meeting with c...</td>\n",
       "      <td>[Documentary]</td>\n",
       "    </tr>\n",
       "  </tbody>\n",
       "</table>\n",
       "</div>"
      ],
      "text/plain": [
       "                                                    plot  \\\n",
       "2145                            three workers ,  zeke  (   \n",
       "214        a look at the life of filmmaker john milius .   \n",
       "3546   several voice actors discuss their art and the...   \n",
       "6782   a series of comedic short films guaranteed to ...   \n",
       "7444                                                 how   \n",
       "3352   iconic writer ,  director ,  actor ,  comedian...   \n",
       "4832      an authorized documentary on the late musician   \n",
       "4110                 the feature film directing debut of   \n",
       "2485   the third installment of the faces of death se...   \n",
       "9425                                  a retelling of sir   \n",
       "1441                           a  N  - d presentation of   \n",
       "10298                             academy award - winner   \n",
       "9143               a documentary about the production of   \n",
       "2766                                           filmmaker   \n",
       "7709                                   the true story of   \n",
       "9319                                    howard spence  (   \n",
       "8432                           f / x man rollie tyler  (   \n",
       "5623      young vincent malloy dreams of being just like   \n",
       "9197     follow four comedians as they tour the states .   \n",
       "7105                             buddies pepper lewis  (   \n",
       "2843                                        the story of   \n",
       "5599   concert footage and backstage documentary of s...   \n",
       "1271   transforming familiar objects into fresh guaca...   \n",
       "166    documentary on the director ' s meeting with c...   \n",
       "\n",
       "                                                  genres  \n",
       "2145                                      [Crime, Drama]  \n",
       "214                      [Documentary, Biography, Drama]  \n",
       "3546                                       [Documentary]  \n",
       "6782                                            [Comedy]  \n",
       "7444                                       [Documentary]  \n",
       "3352                            [Documentary, Biography]  \n",
       "4832          [Documentary, Animation, Biography, Music]  \n",
       "4110                           [Crime, Mystery, Romance]  \n",
       "2485                               [Documentary, Horror]  \n",
       "9425                              [Documentary, History]  \n",
       "1441                                [Documentary, Music]  \n",
       "10298                               [Documentary, Music]  \n",
       "9143                                       [Documentary]  \n",
       "2766                     [Documentary, Biography, Music]  \n",
       "7709                   [Biography, Comedy, Drama, Music]  \n",
       "9319                                      [Drama, Music]  \n",
       "8432                                  [Action, Thriller]  \n",
       "5623                 [Short, Animation, Family, Fantasy]  \n",
       "9197                               [Comedy, Documentary]  \n",
       "7105   [Action, Comedy, Crime, Drama, Thriller, Western]  \n",
       "2843                                  [Biography, Drama]  \n",
       "5599                                [Documentary, Music]  \n",
       "1271                                  [Animation, Short]  \n",
       "166                                        [Documentary]  "
      ]
     },
     "execution_count": 8,
     "metadata": {},
     "output_type": "execute_result"
    }
   ],
   "source": [
    "train['totalwords'] = train['plot'].str.split().str.len()\n",
    "train[\"totalwords\"].value_counts()\n",
    "train.loc[train['totalwords']<=10,['plot','genres']]"
   ]
  },
  {
   "cell_type": "markdown",
   "metadata": {},
   "source": [
    "## 2. Limpieza de los textos"
   ]
  },
  {
   "cell_type": "markdown",
   "metadata": {},
   "source": [
    "Haciendo uso de la librería NLTK renovemos las “Stop Words” y los signos de puntuación. Este proceso de hace tanto para el título de la película como para la descripción "
   ]
  },
  {
   "cell_type": "code",
   "execution_count": 9,
   "metadata": {
    "colab": {},
    "colab_type": "code",
    "id": "CbFrkPLyP-GT"
   },
   "outputs": [],
   "source": [
    "train['Puntuacion']= train['plot'].str.count('!')+train['plot'].str.count(',')+train['plot'].str.count('\\.')+train['plot'].str.count('\\?')"
   ]
  },
  {
   "cell_type": "code",
   "execution_count": 10,
   "metadata": {
    "colab": {},
    "colab_type": "code",
    "id": "r_0re0neQE9c"
   },
   "outputs": [],
   "source": [
    "train['words_punt'] = train['totalwords']/train['Puntuacion']\n",
    "train['words_punt']= train['words_punt'].replace(np.Inf,0)"
   ]
  },
  {
   "cell_type": "code",
   "execution_count": 11,
   "metadata": {
    "colab": {},
    "colab_type": "code",
    "id": "jwMeOzyYQIxy"
   },
   "outputs": [],
   "source": [
    "def remove_punctuation(text):\n",
    "    '''a function for removing punctuation'''\n",
    "    import string\n",
    "    # replacing the punctuations with no space, which in effect deletes the punctuation marks \n",
    "    translator = str.maketrans('', '', string.punctuation)\n",
    "    # return the text stripped of punctuation marks\n",
    "    return text.translate(translator)"
   ]
  },
  {
   "cell_type": "code",
   "execution_count": 12,
   "metadata": {
    "colab": {},
    "colab_type": "code",
    "id": "mt7nA_nJQRHz"
   },
   "outputs": [],
   "source": [
    "train['plot'] = train['plot'].apply(remove_punctuation)"
   ]
  },
  {
   "cell_type": "code",
   "execution_count": 13,
   "metadata": {
    "colab": {},
    "colab_type": "code",
    "id": "5TlLYGN_QVMY"
   },
   "outputs": [],
   "source": [
    "train['title'] = train['title'].apply(remove_punctuation)"
   ]
  },
  {
   "cell_type": "code",
   "execution_count": 14,
   "metadata": {
    "colab": {
     "base_uri": "https://localhost:8080/",
     "height": 70
    },
    "colab_type": "code",
    "executionInfo": {
     "elapsed": 7746,
     "status": "ok",
     "timestamp": 1555906377329,
     "user": {
      "displayName": "camilo barajas",
      "photoUrl": "https://lh3.googleusercontent.com/-LEAGlKez3-M/AAAAAAAAAAI/AAAAAAAASrQ/gudngiRHT3Y/s64/photo.jpg",
      "userId": "08841233750223880415"
     },
     "user_tz": 300
    },
    "id": "MOTYzuV3QYsZ",
    "outputId": "14c029a0-fae8-48cf-d9dd-b00a25f5b618"
   },
   "outputs": [
    {
     "name": "stdout",
     "output_type": "stream",
     "text": [
      "Number of stopwords:  179\n"
     ]
    },
    {
     "name": "stderr",
     "output_type": "stream",
     "text": [
      "[nltk_data] Downloading package stopwords to\n",
      "[nltk_data]     C:\\Users\\user\\AppData\\Roaming\\nltk_data...\n",
      "[nltk_data]   Package stopwords is already up-to-date!\n"
     ]
    }
   ],
   "source": [
    "import nltk\n",
    "nltk.download('stopwords')\n",
    "# nltk library\n",
    "sw = stopwords.words('english')  \n",
    "np.array(sw)\n",
    "print(\"Number of stopwords: \", len(sw))"
   ]
  },
  {
   "cell_type": "markdown",
   "metadata": {},
   "source": [
    "### se crea una funcion para remover Stop Words"
   ]
  },
  {
   "cell_type": "code",
   "execution_count": 15,
   "metadata": {
    "colab": {},
    "colab_type": "code",
    "id": "DvBmqqzHQYve"
   },
   "outputs": [],
   "source": [
    "def stopwords(text):\n",
    "    # removing the stop words and lowercasing the selected words\n",
    "    text = [word.lower() for word in text.split() if word.lower() not in sw]\n",
    "    # joining the list of words with space separator\n",
    "    return \" \".join(text)"
   ]
  },
  {
   "cell_type": "code",
   "execution_count": 16,
   "metadata": {
    "colab": {},
    "colab_type": "code",
    "id": "itLWrm3NQYyo"
   },
   "outputs": [],
   "source": [
    "train['plot'] = train['plot'].apply(stopwords)"
   ]
  },
  {
   "cell_type": "code",
   "execution_count": 17,
   "metadata": {
    "colab": {},
    "colab_type": "code",
    "id": "qddOpOodQY1s"
   },
   "outputs": [],
   "source": [
    "train['title'] = train['title'].apply(stopwords)"
   ]
  },
  {
   "cell_type": "markdown",
   "metadata": {},
   "source": [
    "### 2.2.1 Revisión de top words antes de hacer stemming"
   ]
  },
  {
   "cell_type": "code",
   "execution_count": 18,
   "metadata": {
    "colab": {},
    "colab_type": "code",
    "id": "NxSkBDzLQY4i"
   },
   "outputs": [],
   "source": [
    "count_vectorizer = CountVectorizer()\n",
    "count_vectorizer.fit(train['plot'])\n",
    "dictionary = count_vectorizer.vocabulary_.items() "
   ]
  },
  {
   "cell_type": "code",
   "execution_count": 19,
   "metadata": {
    "colab": {
     "base_uri": "https://localhost:8080/",
     "height": 612
    },
    "colab_type": "code",
    "executionInfo": {
     "elapsed": 10686,
     "status": "ok",
     "timestamp": 1555906380285,
     "user": {
      "displayName": "camilo barajas",
      "photoUrl": "https://lh3.googleusercontent.com/-LEAGlKez3-M/AAAAAAAAAAI/AAAAAAAASrQ/gudngiRHT3Y/s64/photo.jpg",
      "userId": "08841233750223880415"
     },
     "user_tz": 300
    },
    "id": "OX-CfsbwQY7m",
    "outputId": "62cb382b-9da4-4d27-9220-d4c8eb296030"
   },
   "outputs": [
    {
     "data": {
      "text/plain": [
       "<matplotlib.axes._subplots.AxesSubplot at 0x13c1eb0d358>"
      ]
     },
     "execution_count": 19,
     "metadata": {},
     "output_type": "execute_result"
    },
    {
     "data": {
      "image/png": "[encoded data removed]",
      "text/plain": [
       "<Figure size 360x720 with 1 Axes>"
      ]
     },
     "metadata": {
      "needs_background": "light"
     },
     "output_type": "display_data"
    }
   ],
   "source": [
    "# Store the vocab and counts in a pandas dataframe\n",
    "# lists to store the vocab and counts\n",
    "vocab = []\n",
    "count = []\n",
    "# iterate through each vocab and count append the value to designated lists\n",
    "for key, value in dictionary:\n",
    "    vocab.append(key)\n",
    "    count.append(value)\n",
    "# store the count in pandas dataframe with vocab as index\n",
    "vocab_bef_stem = pd.Series(count, index=vocab)\n",
    "# sort the dataframe\n",
    "vocab_bef_stem = vocab_bef_stem.sort_values(ascending=False)\n",
    "\n",
    "#Bar plot of top words before stemming\n",
    "top_vacab = vocab_bef_stem.head(20)\n",
    "top_vacab.plot(kind = 'barh', figsize=(5,10), xlim= (38514, 38535))"
   ]
  },
  {
   "cell_type": "markdown",
   "metadata": {},
   "source": [
    "## 2.3 Stemming"
   ]
  },
  {
   "cell_type": "code",
   "execution_count": 20,
   "metadata": {
    "colab": {},
    "colab_type": "code",
    "id": "MjGCX0kdQrbS"
   },
   "outputs": [],
   "source": [
    "stemmer = SnowballStemmer(\"english\")\n",
    "\n",
    "def stemming(text):    \n",
    "    '''a function which stems each word in the given text'''\n",
    "    text = [stemmer.stem(word) for word in text.split()]\n",
    "    return \" \".join(text) "
   ]
  },
  {
   "cell_type": "code",
   "execution_count": 21,
   "metadata": {
    "colab": {},
    "colab_type": "code",
    "id": "MNGXM91ERBWT"
   },
   "outputs": [],
   "source": [
    "train['plot'] = train['plot'].apply(stemming)"
   ]
  },
  {
   "cell_type": "code",
   "execution_count": 22,
   "metadata": {
    "colab": {},
    "colab_type": "code",
    "id": "tdb7Wox0RBZZ"
   },
   "outputs": [],
   "source": [
    "train['title'] = train['title'].apply(stemming)"
   ]
  },
  {
   "cell_type": "markdown",
   "metadata": {},
   "source": [
    "\n",
    "### 2.3.1 Revisión de top words después de hacer stemming"
   ]
  },
  {
   "cell_type": "code",
   "execution_count": 23,
   "metadata": {
    "colab": {},
    "colab_type": "code",
    "id": "A2Gc0Z2DRBcr"
   },
   "outputs": [],
   "source": [
    "tfid_vectorizer = TfidfVectorizer(\"english\")\n",
    "tfid_vectorizer.fit(train['plot'])\n",
    "dictionary = tfid_vectorizer.vocabulary_.items()  "
   ]
  },
  {
   "cell_type": "code",
   "execution_count": 24,
   "metadata": {
    "colab": {
     "base_uri": "https://localhost:8080/",
     "height": 612
    },
    "colab_type": "code",
    "executionInfo": {
     "elapsed": 19502,
     "status": "ok",
     "timestamp": 1555906389113,
     "user": {
      "displayName": "camilo barajas",
      "photoUrl": "https://lh3.googleusercontent.com/-LEAGlKez3-M/AAAAAAAAAAI/AAAAAAAASrQ/gudngiRHT3Y/s64/photo.jpg",
      "userId": "08841233750223880415"
     },
     "user_tz": 300
    },
    "id": "b0by6PkTRBf0",
    "outputId": "f03f1021-faa0-4b36-9645-cfd2ccc2cc61"
   },
   "outputs": [
    {
     "data": {
      "text/plain": [
       "<matplotlib.axes._subplots.AxesSubplot at 0x13c1ebb32b0>"
      ]
     },
     "execution_count": 24,
     "metadata": {},
     "output_type": "execute_result"
    },
    {
     "data": {
      "image/png": "[encoded data removed]",
      "text/plain": [
       "<Figure size 360x720 with 1 Axes>"
      ]
     },
     "metadata": {
      "needs_background": "light"
     },
     "output_type": "display_data"
    }
   ],
   "source": [
    "# lists to store the vocab and counts\n",
    "vocab = []\n",
    "count = []\n",
    "# iterate through each vocab and count append the value to designated lists\n",
    "for key, value in dictionary:\n",
    "    vocab.append(key)\n",
    "    count.append(value)\n",
    "# store the count in panadas dataframe with vocab as index\n",
    "vocab_after_stem = pd.Series(count, index=vocab)\n",
    "# sort the dataframe\n",
    "vocab_after_stem = vocab_after_stem.sort_values(ascending=False)\n",
    "# plot of the top vocab\n",
    "top_vacab = vocab_after_stem.head(20)\n",
    "top_vacab.plot(kind = 'barh', figsize=(5,10), xlim= (26752, 26773))"
   ]
  },
  {
   "cell_type": "markdown",
   "metadata": {},
   "source": [
    "# 3. creación del modelo a implementar"
   ]
  },
  {
   "cell_type": "code",
   "execution_count": null,
   "metadata": {},
   "outputs": [],
   "source": [
    "import re, string\n",
    "re_tok = re.compile(f'([{string.punctuation}“”¨«»®´·º½¾¿¡§£₤‘’])')\n",
    "def tokenize(s): return re_tok.sub(r' \\1 ', s).split()"
   ]
  },
  {
   "cell_type": "code",
   "execution_count": 26,
   "metadata": {
    "colab": {},
    "colab_type": "code",
    "id": "3po9MPEPRBlO"
   },
   "outputs": [],
   "source": [
    "#Create count vectorizer\n",
    "vect = TfidfVectorizer(max_features=16000, ngram_range=(1,2),tokenizer=tokenize,min_df=3, max_df=0.9, strip_accents='unicode', use_idf=1,smooth_idf=1, sublinear_tf=1 )\n",
    "vect0 = TfidfVectorizer(max_features=1400, ngram_range=(1,2),tokenizer=tokenize,min_df=3, max_df=0.9, strip_accents='unicode', use_idf=1,smooth_idf=1, sublinear_tf=1 )\n"
   ]
  },
  {
   "cell_type": "markdown",
   "metadata": {},
   "source": [
    "El modelo de elección fue un random forest classifier, el cual tuvo el mejor rendimiento entre los modelos ensayados. Entro los otros modelos se encuentran el XGboostig y el perceptrón multicapa"
   ]
  },
  {
   "cell_type": "code",
   "execution_count": 27,
   "metadata": {
    "colab": {},
    "colab_type": "code",
    "id": "FnwXSegkQrek"
   },
   "outputs": [],
   "source": [
    "X_dtm = pd.DataFrame(vect.fit_transform(train['plot']).toarray(), index=train.index,columns=vect.get_feature_names())\n",
    "X_dtm0 =pd.DataFrame(vect0.fit_transform(train['title']).toarray(), index=train.index,columns=vect0.get_feature_names())\n",
    "\n",
    "Time = pd.DataFrame(train.time, columns=['time'],index=X_dtm.index)\n",
    "time2 = Time^2\n",
    "\n",
    "Pun =train[['Puntuacion']]\n",
    "\n",
    "w = pd.DataFrame(normalize(train[['totalwords']],norm='max',axis=0), columns=['Words'],index=X_dtm.index)\n",
    "\n",
    "#wpun = train[['words_punt']]\n",
    "\n",
    "Frames = [X_dtm,X_dtm0,Time,time2,w, Pun]#wpun]\n",
    "\n",
    "X_tot = pd.concat(Frames, axis=1)\n"
   ]
  },
  {
   "cell_type": "code",
   "execution_count": 28,
   "metadata": {
    "colab": {},
    "colab_type": "code",
    "id": "setmbS73Qrhh"
   },
   "outputs": [],
   "source": [
    "X_train, X_test, y_train_genres, y_test_genres = train_test_split(X_tot, y_genres, test_size=0.40, random_state=5)"
   ]
  },
  {
   "cell_type": "code",
   "execution_count": 29,
   "metadata": {
    "colab": {},
    "colab_type": "code",
    "id": "WXu4MSGgQrke"
   },
   "outputs": [],
   "source": [
    "clf = RandomForestClassifier(n_estimators=700, max_depth=15, random_state=2,n_jobs=-1, max_features = 'sqrt')\n",
    "clf1 = RandomForestClassifier(n_estimators=700, max_depth=15, random_state=845,n_jobs=-1,max_features = 'sqrt')\n",
    "clf2 = RandomForestClassifier(n_estimators=700, max_depth=15, random_state=54,n_jobs=-1,max_features = 'sqrt')\n"
   ]
  },
  {
   "cell_type": "code",
   "execution_count": 30,
   "metadata": {
    "colab": {},
    "colab_type": "code",
    "id": "wkLyaElCQrna"
   },
   "outputs": [],
   "source": [
    "eclf = OneVsRestClassifier(VotingClassifier(estimators=[('rf', clf), ('rf1', clf1),('rf2',clf2)],voting='soft', weights=[1,1,1],flatten_transform=False))\n"
   ]
  },
  {
   "cell_type": "markdown",
   "metadata": {},
   "source": [
    "Como método de cross validation, se usó un K-folds con 5 divisiones en la base de datos, con la intención de recorrer toda la base de datos"
   ]
  },
  {
   "cell_type": "code",
   "execution_count": 31,
   "metadata": {
    "colab": {},
    "colab_type": "code",
    "id": "CbDAHE5uMHtW"
   },
   "outputs": [],
   "source": [
    "\n",
    "from sklearn.model_selection import KFold"
   ]
  },
  {
   "cell_type": "code",
   "execution_count": 32,
   "metadata": {
    "colab": {},
    "colab_type": "code",
    "id": "iSyTYvNRMH4L"
   },
   "outputs": [],
   "source": [
    "cv = KFold(n_splits=5, random_state=78, shuffle=False)\n",
    "resultcv =[]\n"
   ]
  },
  {
   "cell_type": "code",
   "execution_count": 33,
   "metadata": {
    "colab": {},
    "colab_type": "code",
    "id": "vJ1WzikwNnO1"
   },
   "outputs": [],
   "source": [
    "for trainf, testf in cv.split(X_tot):\n",
    "    Xtrain = X_tot.iloc[trainf]\n",
    "    Ytrain = y_genres.iloc[trainf]\n",
    "    Xtest  = X_tot.iloc[testf]\n",
    "    Ytest  = y_genres.iloc[testf]\n",
    "    eclf.fit(Xtrain,Ytrain)\n",
    "    y_pred_genres = pd.DataFrame(eclf.predict_proba(Xtest),columns=(list(le.classes_)))\n",
    "    try:\n",
    "        resultcv.append(roc_auc_score(Ytest, y_pred_genres, average='macro'))\n",
    "    except ValueError:\n",
    "        pass"
   ]
  },
  {
   "cell_type": "code",
   "execution_count": 34,
   "metadata": {
    "colab": {},
    "colab_type": "code",
    "id": "ZNJli3P6MmbN"
   },
   "outputs": [
    {
     "data": {
      "text/plain": [
       "[0.8738697611288547, 0.8766959287479281, 0.8734373952569907]"
      ]
     },
     "execution_count": 34,
     "metadata": {},
     "output_type": "execute_result"
    }
   ],
   "source": [
    "resultcv"
   ]
  },
  {
   "cell_type": "markdown",
   "metadata": {},
   "source": [
    "Los resultados arriba son el porcentage de predicciones correctas fcomo resultdos de cada uno de los Folds de la validación cruzada efectuada."
   ]
  },
  {
   "cell_type": "code",
   "execution_count": 35,
   "metadata": {
    "colab": {},
    "colab_type": "code",
    "id": "8G0Aq__MQrqk"
   },
   "outputs": [],
   "source": [
    "y_pred_genres = pd.DataFrame(eclf.predict_proba(X_test), index=X_test.index,columns=(list(le.classes_)))"
   ]
  },
  {
   "cell_type": "code",
   "execution_count": 36,
   "metadata": {
    "colab": {},
    "colab_type": "code",
    "id": "bfp7BxckQrud"
   },
   "outputs": [
    {
     "data": {
      "text/plain": [
       "0.9736373889582932"
      ]
     },
     "execution_count": 36,
     "metadata": {},
     "output_type": "execute_result"
    }
   ],
   "source": [
    "roc_auc_score(y_test_genres, y_pred_genres, average='macro')"
   ]
  },
  {
   "cell_type": "markdown",
   "metadata": {},
   "source": [
    "con la unión de los modelos realizados arriba, se tiene una predicción correcta de 97% sobre la base se datos de train"
   ]
  },
  {
   "cell_type": "markdown",
   "metadata": {},
   "source": [
    "# 4. Aplicar el mismo tratamieento a la base de test"
   ]
  },
  {
   "cell_type": "code",
   "execution_count": 37,
   "metadata": {
    "colab": {},
    "colab_type": "code",
    "id": "fqpo9zBtnJMO"
   },
   "outputs": [],
   "source": [
    "test['time'] = 2019-test['year']\n",
    "test['totalwords'] = test['plot'].str.split().str.len()\n",
    "test['Puntuacion']= test['plot'].str.count('!')+test['plot'].str.count(',')+test['plot'].str.count('\\.')\n",
    "\n",
    "p=test[['Puntuacion']]\n",
    "\n",
    "w3=pd.DataFrame(normalize(test[['totalwords']],norm='max',axis=0), columns=['Words'],index=test.index)\n",
    "\n",
    "test['plot'] = test['plot'].apply(remove_punctuation)\n",
    "test['title'] = test['title'].apply(remove_punctuation)\n",
    "\n",
    "test['plot'] = test['plot'].apply(stopwords)\n",
    "test['title'] = test['title'].apply(stopwords)\n",
    "\n",
    "test['plot'] = test['plot'].apply(stemming)\n",
    "test['title'] = test['title'].apply(stemming)\n",
    "\n",
    "\n",
    "Time_test = pd.DataFrame(test.time, columns=['time'],index=test.index)\n",
    "Time_test2 = Time_test^2\n",
    "\n",
    "vect_test = pd.DataFrame(vect.transform(test['plot']).toarray(), index=test.index,columns=vect.get_feature_names())\n",
    "vect_test0 = pd.DataFrame(vect0.transform(test['title']).toarray(), index=test.index,columns=vect0.get_feature_names())\n",
    "\n",
    "Frames_Test = [vect_test, vect_test0 ,Time_test,Time_test2,w3,p]\n",
    "\n",
    "X_tot_test = pd.concat(Frames_Test, axis=1)\n",
    "\n",
    "#X_Def_Tot = X_tot_test.groupby(level=0, axis=1).max()\n",
    "\n",
    "cols = ['p_Action', 'p_Adventure', 'p_Animation', 'p_Biography', 'p_Comedy', 'p_Crime', 'p_Documentary', 'p_Drama', 'p_Family',\n",
    "        'p_Fantasy', 'p_Film-Noir', 'p_History', 'p_Horror', 'p_Music', 'p_Musical', 'p_Mystery', 'p_News', 'p_Romance',\n",
    "        'p_Sci-Fi', 'p_Short', 'p_Sport', 'p_Thriller', 'p_War', 'p_Western']\n",
    "\n",
    "ypred = pd.DataFrame(eclf.predict_proba(X_tot_test),index=test.index,columns=cols)"
   ]
  },
  {
   "cell_type": "code",
   "execution_count": 38,
   "metadata": {
    "colab": {},
    "colab_type": "code",
    "id": "0NOcp5mq8F3s"
   },
   "outputs": [],
   "source": [
    "ypred.to_csv('df.csv',index_label='ID')"
   ]
  },
  {
   "cell_type": "markdown",
   "metadata": {},
   "source": [
    "## Anexos: Ideas adicionales que se probaron:"
   ]
  },
  {
   "cell_type": "markdown",
   "metadata": {},
   "source": [
    "Uso de la librería SPACY:\n",
    "\n",
    "Se empleó esta librería inicialmente Como método para contar el número de personas que estuviesen presentes en la descripción de la trama de cada película, así como otros elementos tales como lugares o eventos descritos. Los resultamos no probaron ser mejores que no incluirlos, y le ponía un gran peso adicional al procesamiento de los datos, con lo cual se tomó l decisión de no incluirlo"
   ]
  },
  {
   "cell_type": "code",
   "execution_count": null,
   "metadata": {},
   "outputs": [],
   "source": [
    "import spacy\n",
    "from spacy import displacy\n",
    "import en_core_web_sm\n",
    "from collections import Counter\n",
    "\n",
    "\n",
    "nlp = en_core_web_sm.load()\n",
    "spacy={}\n",
    "\n",
    "for c in range(len (train)):\n",
    "    doc = nlp(train['plot'].iloc[c])\n",
    "    spacy[c]=[X.label_ for X in doc.ents]\n",
    "    \n",
    "etiquetas = list(set(list(np.concatenate(list(spacy.values())))))\n",
    "\n",
    "\n",
    "a=pd.DataFrame(train.index)\n",
    "a.index=train.index\n",
    "for b in etiquetas:\n",
    "        a[b]=0\n",
    "a.index=a[0]\n",
    "a=a.drop(0, axis=1)\n",
    "\n",
    "\n",
    "a['PERCENT']=0      \n",
    "for c in range(len(spacy)):\n",
    "    a.loc[c, 'PERCENT']=spacy[c].count('PERCENT')\n",
    "\n",
    "a['MONEY']=0      \n",
    "for c in range(len(spacy)):\n",
    "    a.loc[c, 'MONEY']=spacy[c].count('MONEY')\n",
    "\n",
    "a['PERSON']=0      \n",
    "for c in range(len(spacy)):\n",
    "    a.loc[c, 'PERSON']=spacy[c].count('PERSON')\n",
    "\n",
    "a['TIME']=0      \n",
    "for c in range(len(spacy)):\n",
    "    a.loc[c, 'TIME']=spacy[c].count('TIME')\n",
    "\n",
    "a['NORP']=0      \n",
    "for c in range(len(spacy)):\n",
    "    a.loc[c, 'NORP']=spacy[c].count('NORP')\n",
    "\n",
    "a['CARDINAL']=0      \n",
    "for c in range(len(spacy)):\n",
    "    a.loc[c, 'CARDINAL']=spacy[c].count('CARDINAL')\n",
    "\n",
    "a['ORDINAL']=0      \n",
    "for c in range(len(spacy)):\n",
    "    a.loc[c, 'ORDINAL']=spacy[c].count('ORDINAL')\n",
    "\n",
    "a['QUANTITY']=0      \n",
    "for c in range(len(spacy)):\n",
    "    a.loc[c, 'QUANTITY']=spacy[c].count('QUANTITY')\n",
    "\n",
    "a['GPE']=0      \n",
    "for c in range(len(spacy)):\n",
    "    a.loc[c, 'GPE']=spacy[c].count('GPE')\n",
    "\n",
    "a['NORP']=0      \n",
    "for c in range(len(spacy)):\n",
    "    a.loc[c, 'NORP']=spacy[c].count('NORP')\n",
    "\n",
    "a['ORG']=0      \n",
    "for c in range(len(spacy)):\n",
    "    a.loc[c, 'ORG']=spacy[c].count('ORG')\n",
    " \n",
    "a.index=a[0]\n",
    "a=a.drop(0, axis=1)"
   ]
  },
  {
   "cell_type": "markdown",
   "metadata": {},
   "source": [
    "Uso de un modelo perceptron multicapa:\n",
    "\n",
    "Se usó un perceptrón multicapa como modelo para complementar los random forests empleados como modelos de análisis, pero a pesar de usar diversos números de capas, neuronas, y métodos de aprendizaje, sus resultaos eran peores que con el modelo originalmente planteado. "
   ]
  },
  {
   "cell_type": "markdown",
   "metadata": {},
   "source": [
    "# Clasificación de género de películas - AWS\n",
    "\n",
    "### URL: http://52.14.252.74:8888/\n",
    "\n",
    "![](https://raw.githubusercontent.com/ccorrea842/Proyecto-2-Kaggle/master/API.PNG)"
   ]
  },
  {
   "cell_type": "markdown",
   "metadata": {},
   "source": [
    "![](https://raw.githubusercontent.com/ccorrea842/Proyecto-2-Kaggle/master/Resultado.PNG)"
   ]
  }
 ],
 "metadata": {
  "accelerator": "GPU",
  "colab": {
   "collapsed_sections": [],
   "name": "Untitled0.ipynb",
   "provenance": [],
   "version": "0.3.2"
  },
  "kernelspec": {
   "display_name": "Python 3",
   "language": "python",
   "name": "python3"
  },
  "language_info": {
   "codemirror_mode": {
    "name": "ipython",
    "version": 3
   },
   "file_extension": ".py",
   "mimetype": "text/x-python",
   "name": "python",
   "nbconvert_exporter": "python",
   "pygments_lexer": "ipython3",
   "version": "3.6.5"
  }
 },
 "nbformat": 4,
 "nbformat_minor": 1
}
